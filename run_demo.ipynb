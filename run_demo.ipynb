{
 "cells": [
  {
   "cell_type": "code",
   "execution_count": 1,
   "metadata": {},
   "outputs": [],
   "source": [
    "import scipy.io as sio\n",
    "import numpy as np\n",
    "from sklearn.model_selection import KFold\n",
    "from sklearn import svm\n",
    "from sklearn.metrics import accuracy_score\n",
    "from sklearn.model_selection import LeaveOneOut\n",
    "from sklearn.model_selection import train_test_split\n",
    "from sklearn.metrics import classification_report, confusion_matrix\n",
    "from sklearn.decomposition import PCA\n",
    "from helpers.simulateData import *\n",
    "from helpers.fs_methods import *"
   ]
  },
  {
   "cell_type": "code",
   "execution_count": 2,
   "metadata": {},
   "outputs": [],
   "source": [
    "kf5=KFold(n_splits=5,shuffle=True)\n",
    "kf10=KFold(n_splits=10,shuffle=True)\n",
    "loo=LeaveOneOut()"
   ]
  },
  {
   "cell_type": "markdown",
   "metadata": {},
   "source": [
    "## Simulate Data"
   ]
  },
  {
   "cell_type": "markdown",
   "metadata": {},
   "source": [
    "### 41 AD and 36 LMCI with 35 ROIs "
   ]
  },
  {
   "cell_type": "code",
   "execution_count": 4,
   "metadata": {},
   "outputs": [
    {
     "name": "stdin",
     "output_type": "stream",
     "text": [
      "Select the number of class 1 graphs:  41\n",
      "Select the number of class 2 graphs:  36\n",
      "Select the number of nodes (i.e., ROIS for brain graphs):  35\n"
     ]
    }
   ],
   "source": [
    "#* * (1) Some variables are described.\n",
    "mu1 = 0.9 #Mean value of the first Gaussian distribution\n",
    "sigma1 = 0.4 #Standard deviation value of the first Gaussian distribution\n",
    "mu2 = 0.7 #Mean value of the second Gaussian distribution\n",
    "sigma2 = 0.6 #Standard deviation value of the first Gaussian distribution\n",
    "#Nf = 5 #number of selected features\n",
    "Featurematrix,Subjects,Labels=simulate_data(mu1,sigma1,mu2,sigma2)"
   ]
  },
  {
   "cell_type": "code",
   "execution_count": 5,
   "metadata": {},
   "outputs": [],
   "source": [
    "X=Featurematrix\n",
    "y=Labels\n",
    "y=y[:, 0]\n",
    "n_samples, n_features = X.shape"
   ]
  },
  {
   "cell_type": "code",
   "execution_count": 6,
   "metadata": {},
   "outputs": [
    {
     "data": {
      "text/plain": [
       "array([ 1.,  1.,  1.,  1.,  1.,  1.,  1.,  1.,  1.,  1.,  1.,  1.,  1.,\n",
       "        1.,  1.,  1.,  1.,  1.,  1.,  1.,  1.,  1.,  1.,  1.,  1.,  1.,\n",
       "        1.,  1.,  1.,  1.,  1.,  1.,  1.,  1.,  1.,  1.,  1.,  1.,  1.,\n",
       "        1.,  1., -1., -1., -1., -1., -1., -1., -1., -1., -1., -1., -1.,\n",
       "       -1., -1., -1., -1., -1., -1., -1., -1., -1., -1., -1., -1., -1.,\n",
       "       -1., -1., -1., -1., -1., -1., -1., -1., -1., -1., -1., -1.])"
      ]
     },
     "execution_count": 6,
     "metadata": {},
     "output_type": "execute_result"
    }
   ],
   "source": [
    "y"
   ]
  },
  {
   "cell_type": "code",
   "execution_count": 7,
   "metadata": {},
   "outputs": [
    {
     "data": {
      "text/plain": [
       "(77, 595)"
      ]
     },
     "execution_count": 7,
     "metadata": {},
     "output_type": "execute_result"
    }
   ],
   "source": [
    "X.shape"
   ]
  },
  {
   "cell_type": "code",
   "execution_count": 8,
   "metadata": {},
   "outputs": [],
   "source": [
    "# Number of selected features (top k ranked features)\n",
    "#top K selected features varying from 10 to 100 (with a step size of 10 features)\n",
    "num_fea = [i for i in range(10,110,10)]\n",
    "clf = svm.LinearSVC()    # linear SVM\n",
    "correct=0\n",
    "accuracy=[]"
   ]
  },
  {
   "cell_type": "markdown",
   "metadata": {},
   "source": [
    "### Feature selection methods"
   ]
  },
  {
   "cell_type": "markdown",
   "metadata": {},
   "source": [
    "### Vizualize classification results"
   ]
  },
  {
   "cell_type": "code",
   "execution_count": 9,
   "metadata": {},
   "outputs": [],
   "source": [
    "  #   X_train, X_test = X[train_index], X[test_index]\n",
    "k=10\n",
    "X_train, X_test, y_train, y_test = train_test_split(X, y, test_size=0.33, random_state=42)\n",
    "     #   y_train, y_test = y[train_index], y[test_index]\n",
    "#if FS_method==reliefF:\n",
    "idx,score=relief_FS(X_train,y_train)\n",
    "\n",
    "selected_features_train = X_train[:, idx]\n",
    "selected_features_test = X_test[:, idx]\n",
    "    # train a classification model with the selected features on the training dataset\n",
    "clf.fit(selected_features_train, y_train)  # predict the class labels of test data\n",
    "y_predict = clf.predict(selected_features_test)\n",
    "    # obtain the classification accuracy on the test data\n",
    "acc = accuracy_score(y_test, y_predict)"
   ]
  },
  {
   "cell_type": "code",
   "execution_count": 10,
   "metadata": {},
   "outputs": [
    {
     "name": "stdout",
     "output_type": "stream",
     "text": [
      "[[ 0 10]\n",
      " [ 0 16]]\n",
      "              precision    recall  f1-score   support\n",
      "\n",
      "        -1.0       0.00      0.00      0.00        10\n",
      "         1.0       0.62      1.00      0.76        16\n",
      "\n",
      "    accuracy                           0.62        26\n",
      "   macro avg       0.31      0.50      0.38        26\n",
      "weighted avg       0.38      0.62      0.47        26\n",
      "\n"
     ]
    },
    {
     "name": "stderr",
     "output_type": "stream",
     "text": [
      "/home/raoua/.local/lib/python3.6/site-packages/sklearn/metrics/_classification.py:1272: UndefinedMetricWarning: Precision and F-score are ill-defined and being set to 0.0 in labels with no predicted samples. Use `zero_division` parameter to control this behavior.\n",
      "  _warn_prf(average, modifier, msg_start, len(result))\n"
     ]
    }
   ],
   "source": [
    "\n",
    "print(confusion_matrix(y_test,y_predict))\n",
    "print(classification_report(y_test,y_predict))"
   ]
  },
  {
   "cell_type": "code",
   "execution_count": 11,
   "metadata": {},
   "outputs": [],
   "source": [
    "pca = PCA(n_components=2).fit(selected_features_train)\n",
    "pca_2d = pca.transform(selected_features_train)"
   ]
  },
  {
   "cell_type": "code",
   "execution_count": 12,
   "metadata": {},
   "outputs": [
    {
     "data": {
      "text/plain": [
       "array([ 0.11281939,  0.21235363, -0.09401972,  1.26474487,  0.31267855,\n",
       "       -3.08098487, -3.19207001, -0.10790115,  0.49926259,  0.82599513,\n",
       "       -2.03396602, -0.35663944,  3.66258588, -0.67626191,  0.48933298,\n",
       "        0.79690841, -0.39197119, -2.02112748,  0.03102639,  0.26806968,\n",
       "       -2.40206023, -0.37382329,  5.61343377, -3.98872559,  0.95990189,\n",
       "       -0.0140498 , -0.6844814 ,  0.1090563 ,  0.71898405,  0.61510839,\n",
       "       -0.02066971, -1.43817182,  0.10219127, -0.46679235,  0.01626537,\n",
       "        4.73191082, -1.81763045, -1.8317156 , -0.25769955, -0.83220324,\n",
       "        0.06884404,  0.6549621 ,  3.26215995,  0.7202894 , -0.08913708,\n",
       "       -0.53676008,  0.16948951, -1.15943891,  1.57509098,  0.53607286,\n",
       "       -0.46123734])"
      ]
     },
     "execution_count": 12,
     "metadata": {},
     "output_type": "execute_result"
    }
   ],
   "source": [
    "pca_2d[:,1]"
   ]
  },
  {
   "cell_type": "code",
   "execution_count": 13,
   "metadata": {},
   "outputs": [
    {
     "data": {
      "image/png": "[encoded data removed]",
      "text/plain": [
       "<Figure size 432x288 with 1 Axes>"
      ]
     },
     "metadata": {
      "needs_background": "light"
     },
     "output_type": "display_data"
    }
   ],
   "source": [
    "from sklearn.decomposition import PCA\n",
    "\n",
    "pca = PCA(n_components=2).fit(selected_features_train)\n",
    "pca_2d = pca.transform(selected_features_train)\n",
    "import pylab as pl\n",
    "for i in range(0, pca_2d.shape[0]):\n",
    "    if y_train[i] == -1:\n",
    "        c1 = pl.scatter(pca_2d[i,0],pca_2d[i,1],c='r',    marker='+')\n",
    "    elif y_train[i] == 1:\n",
    "        c2 = pl.scatter(pca_2d[i,0],pca_2d[i,1],c='b',    marker='o')\n",
    "\n",
    "pl.legend([c1, c2], ['AD', 'MCI'])\n",
    "pl.title('Linear SVM classifier without Feature selection')\n",
    "pl.show()"
   ]
  },
  {
   "cell_type": "code",
   "execution_count": 14,
   "metadata": {},
   "outputs": [
    {
     "data": {
      "image/png": "[encoded data removed]",
      "text/plain": [
       "<Figure size 432x288 with 1 Axes>"
      ]
     },
     "metadata": {
      "needs_background": "light"
     },
     "output_type": "display_data"
    }
   ],
   "source": [
    "\n",
    "pca = PCA(n_components=2).fit(selected_features_train)\n",
    "pca_2d = pca.transform(selected_features_train)\n",
    "import pylab as pl\n",
    "for i in range(0, pca_2d.shape[0]):\n",
    "    if y_train[i] == -1:\n",
    "        c1 = pl.scatter(pca_2d[i,0],pca_2d[i,1],c='r',    marker='+')\n",
    "    elif y_train[i] == 1:\n",
    "        c2 = pl.scatter(pca_2d[i,0],pca_2d[i,1],c='b',    marker='o')\n",
    "\n",
    "pl.legend([c1, c2], ['AD', 'MCI'])\n",
    "pl.title('Linear SVM classifier with Feature selection evaluated with 5 fold cv')\n",
    "pl.show()"
   ]
  },
  {
   "cell_type": "markdown",
   "metadata": {},
   "source": [
    "____________________________________________________________________________________"
   ]
  },
  {
   "cell_type": "markdown",
   "metadata": {},
   "source": [
    "### Training"
   ]
  },
  {
   "cell_type": "code",
   "execution_count": 15,
   "metadata": {},
   "outputs": [],
   "source": [
    "from helpers.training import *"
   ]
  },
  {
   "cell_type": "code",
   "execution_count": 16,
   "metadata": {},
   "outputs": [],
   "source": [
    "ranks,accs,weights=training(kf5,10,reliefF,X,y)"
   ]
  },
  {
   "cell_type": "code",
   "execution_count": 17,
   "metadata": {},
   "outputs": [
    {
     "data": {
      "text/plain": [
       "array([127, 356, 418, 332, 457,  99, 484, 388, 309, 421])"
      ]
     },
     "execution_count": 17,
     "metadata": {},
     "output_type": "execute_result"
    }
   ],
   "source": [
    "ranks"
   ]
  },
  {
   "cell_type": "code",
   "execution_count": 18,
   "metadata": {},
   "outputs": [],
   "source": [
    "pool_FS=[reliefF,lap_score,ll_l21,ls_l21,UDFS,fisher_score,chi_square,gini_index,SPEC]#,BorutaPy]#,MCFS]#trace_ratio,"
   ]
  },
  {
   "cell_type": "markdown",
   "metadata": {},
   "source": [
    "## Training"
   ]
  },
  {
   "cell_type": "markdown",
   "metadata": {},
   "source": [
    "### Using 9 FS methods and  3 Cross-validation (5-fold, 10-fold, LOO)"
   ]
  },
  {
   "cell_type": "code",
   "execution_count": 27,
   "metadata": {},
   "outputs": [],
   "source": [
    "from helpers.training import *\n",
    "from helpers.fs_methods import *"
   ]
  },
  {
   "cell_type": "code",
   "execution_count": null,
   "metadata": {},
   "outputs": [],
   "source": [
    "dataframe_ranking_5fold,dataframe_accuracies_5fold,dataframe_weights_5fold=fs_training(kf5,X,y,num_fea)\n",
    "dataframe_ranking_10fold,dataframe_accuracies_10fold,dataframe_weights_10fold=fs_training(kf10,X,y,num_fea)\n",
    "dataframe_ranking_loo,dataframe_accuracies_loo,dataframe_weights_loo=fs_training(LOO,X,y,num_fea)"
   ]
  },
  {
   "cell_type": "markdown",
   "metadata": {},
   "source": [
    "### Overlapping matrices"
   ]
  },
  {
   "cell_type": "code",
   "execution_count": 5,
   "metadata": {},
   "outputs": [],
   "source": [
    "from helpers.similarities import *"
   ]
  },
  {
   "cell_type": "code",
   "execution_count": 6,
   "metadata": {},
   "outputs": [],
   "source": [
    "dataframe_ranking_5fold['overlapping']=dataframe_ranking_5fold.apply(\n",
    "    lambda row:FS_to_FS_similarity(row),axis=1)"
   ]
  },
  {
   "cell_type": "code",
   "execution_count": 7,
   "metadata": {},
   "outputs": [],
   "source": [
    "dataframe_ranking_10fold['overlapping']=dataframe_ranking_10fold.apply(\n",
    "    lambda row:FS_to_FS_similarity(row),axis=1)"
   ]
  },
  {
   "cell_type": "code",
   "execution_count": 8,
   "metadata": {},
   "outputs": [],
   "source": [
    "dataframe_ranking_loo['overlapping']=dataframe_ranking_loo.apply(\n",
    "    lambda row:FS_to_FS_similarity(row),axis=1)"
   ]
  },
  {
   "cell_type": "code",
   "execution_count": 10,
   "metadata": {},
   "outputs": [
    {
     "data": {
      "text/plain": [
       "True"
      ]
     },
     "execution_count": 10,
     "metadata": {},
     "output_type": "execute_result"
    }
   ],
   "source": [
    "def check_symmetric(a, rtol=1e-05, atol=1e-08):\n",
    "    return np.allclose(a, a.T, rtol=rtol, atol=atol)\n",
    "check_symmetric(dataframe_ranking_5fold.overlapping[10])"
   ]
  },
  {
   "cell_type": "markdown",
   "metadata": {},
   "source": [
    "#### 5-fold"
   ]
  },
  {
   "cell_type": "code",
   "execution_count": 11,
   "metadata": {},
   "outputs": [],
   "source": [
    "import matplotlib.pyplot as plt"
   ]
  },
  {
   "cell_type": "code",
   "execution_count": 12,
   "metadata": {},
   "outputs": [
    {
     "data": {
      "text/plain": [
       "Text(0.5, 1.0, 'num_fea=100')"
      ]
     },
     "execution_count": 12,
     "metadata": {},
     "output_type": "execute_result"
    },
    {
     "data": {
      "image/png": "[encoded data removed]",
      "text/plain": [
       "<Figure size 1440x720 with 10 Axes>"
      ]
     },
     "metadata": {
      "needs_background": "light"
     },
     "output_type": "display_data"
    }
   ],
   "source": [
    "\n",
    "plt.figure(figsize=(20,10))\n",
    "plt.suptitle('Overlapping matrices', fontsize=16)\n",
    "\n",
    "plt.subplot(2, 5, 1)\n",
    "plt.imshow(dataframe_ranking_5fold.overlapping[10],cmap=plt.cm.prism_r)\n",
    "plt.title('num_fea=10')\n",
    "plt.subplot(2, 5, 2)\n",
    "plt.imshow(dataframe_ranking_5fold.overlapping[20],cmap=plt.cm.prism_r)\n",
    "plt.title('num_fea=20')\n",
    "plt.subplot(2, 5, 3)\n",
    "plt.imshow(dataframe_ranking_5fold.overlapping[30],cmap=plt.cm.prism_r)\n",
    "plt.title('num_fea=30')\n",
    "plt.subplot(2, 5, 4)\n",
    "plt.imshow(dataframe_ranking_5fold.overlapping[40],cmap=plt.cm.prism_r)\n",
    "plt.title('num_fea=40')\n",
    "plt.subplot(2, 5, 5)\n",
    "plt.imshow(dataframe_ranking_5fold.overlapping[50],cmap=plt.cm.prism_r)\n",
    "plt.title('num_fea=50')\n",
    "plt.subplot(2, 5, 6)\n",
    "plt.imshow(dataframe_ranking_5fold.overlapping[60],cmap=plt.cm.prism_r)\n",
    "plt.title('num_fea=60')\n",
    "plt.subplot(2, 5, 7)\n",
    "plt.imshow(dataframe_ranking_5fold.overlapping[70],cmap=plt.cm.prism_r)\n",
    "plt.title('num_fea=70')\n",
    "plt.subplot(2, 5, 8)\n",
    "plt.imshow(dataframe_ranking_5fold.overlapping[80],cmap=plt.cm.prism_r)\n",
    "plt.title('num_fea=80')\n",
    "plt.subplot(2, 5, 9)\n",
    "plt.imshow(dataframe_ranking_5fold.overlapping[90],cmap=plt.cm.prism_r)\n",
    "plt.title('num_fea=90')\n",
    "plt.subplot(2, 5, 10)\n",
    "plt.imshow(dataframe_ranking_5fold.overlapping[100],cmap=plt.cm.prism_r)\n",
    "plt.title('num_fea=100')"
   ]
  },
  {
   "cell_type": "markdown",
   "metadata": {},
   "source": [
    "#### 10-fold"
   ]
  },
  {
   "cell_type": "code",
   "execution_count": 15,
   "metadata": {},
   "outputs": [
    {
     "data": {
      "text/plain": [
       "Text(0.5, 1.0, 'num_fea=100')"
      ]
     },
     "execution_count": 15,
     "metadata": {},
     "output_type": "execute_result"
    },
    {
     "data": {
      "image/png": "[encoded data removed]",
      "text/plain": [
       "<Figure size 1440x720 with 10 Axes>"
      ]
     },
     "metadata": {
      "needs_background": "light"
     },
     "output_type": "display_data"
    }
   ],
   "source": [
    "plt.figure(figsize=(20,10))\n",
    "plt.suptitle('Overlapping matrices', fontsize=16)\n",
    "plt.subplot(2, 5, 1)\n",
    "plt.imshow(dataframe_ranking_10fold.overlapping[10],cmap=plt.cm.prism_r)\n",
    "plt.title('num_fea=10')\n",
    "plt.subplot(2, 5, 2)\n",
    "plt.imshow(dataframe_ranking_10fold.overlapping[20],cmap=plt.cm.prism_r)\n",
    "plt.title('num_fea=20')\n",
    "plt.subplot(2, 5, 3)\n",
    "plt.imshow(dataframe_ranking_10fold.overlapping[30],cmap=plt.cm.prism_r)\n",
    "plt.title('num_fea=30')\n",
    "plt.subplot(2, 5, 4)\n",
    "plt.imshow(dataframe_ranking_10fold.overlapping[40],cmap=plt.cm.prism_r)\n",
    "plt.title('num_fea=40')\n",
    "plt.subplot(2, 5, 5)\n",
    "plt.imshow(dataframe_ranking_10fold.overlapping[50],cmap=plt.cm.prism_r)\n",
    "plt.title('num_fea=50')\n",
    "plt.subplot(2, 5, 6)\n",
    "plt.imshow(dataframe_ranking_10fold.overlapping[60],cmap=plt.cm.prism_r)\n",
    "plt.title('num_fea=60')\n",
    "plt.subplot(2, 5, 7)\n",
    "plt.imshow(dataframe_ranking_10fold.overlapping[70],cmap=plt.cm.prism_r)\n",
    "plt.title('num_fea=70')\n",
    "plt.subplot(2, 5, 8)\n",
    "plt.imshow(dataframe_ranking_10fold.overlapping[80],cmap=plt.cm.prism_r)\n",
    "plt.title('num_fea=80')\n",
    "plt.subplot(2, 5, 9)\n",
    "plt.imshow(dataframe_ranking_10fold.overlapping[90],cmap=plt.cm.prism_r)\n",
    "plt.title('num_fea=90')\n",
    "plt.subplot(2, 5, 10)\n",
    "plt.imshow(dataframe_ranking_10fold.overlapping[100],cmap=plt.cm.prism_r)\n",
    "plt.title('num_fea=100')"
   ]
  },
  {
   "cell_type": "markdown",
   "metadata": {},
   "source": [
    "##### LOO"
   ]
  },
  {
   "cell_type": "code",
   "execution_count": 16,
   "metadata": {},
   "outputs": [
    {
     "data": {
      "text/plain": [
       "Text(0.5, 1.0, 'num_fea=100')"
      ]
     },
     "execution_count": 16,
     "metadata": {},
     "output_type": "execute_result"
    },
    {
     "data": {
      "image/png": "[encoded data removed]",
      "text/plain": [
       "<Figure size 1440x720 with 10 Axes>"
      ]
     },
     "metadata": {
      "needs_background": "light"
     },
     "output_type": "display_data"
    }
   ],
   "source": [
    "plt.figure(figsize=(20,10))\n",
    "plt.suptitle('Overlapping matrices', fontsize=16)\n",
    "plt.subplot(2, 5, 1)\n",
    "plt.imshow(dataframe_ranking_loo.overlapping[10],cmap=plt.cm.prism_r)\n",
    "plt.title('num_fea=10')\n",
    "plt.subplot(2, 5, 2)\n",
    "plt.imshow(dataframe_ranking_loo.overlapping[20],cmap=plt.cm.prism_r)\n",
    "plt.title('num_fea=20')\n",
    "plt.subplot(2, 5, 3)\n",
    "plt.imshow(dataframe_ranking_loo.overlapping[30],cmap=plt.cm.prism_r)\n",
    "plt.title('num_fea=30')\n",
    "plt.subplot(2, 5, 4)\n",
    "plt.imshow(dataframe_ranking_loo.overlapping[40],cmap=plt.cm.prism_r)\n",
    "plt.title('num_fea=40')\n",
    "plt.subplot(2, 5, 5)\n",
    "plt.imshow(dataframe_ranking_loo.overlapping[50],cmap=plt.cm.prism_r)\n",
    "plt.title('num_fea=50')\n",
    "plt.subplot(2, 5, 6)\n",
    "plt.imshow(dataframe_ranking_loo.overlapping[60],cmap=plt.cm.prism_r)\n",
    "plt.title('num_fea=60')\n",
    "plt.subplot(2, 5, 7)\n",
    "plt.imshow(dataframe_ranking_loo.overlapping[70],cmap=plt.cm.prism_r)\n",
    "plt.title('num_fea=70')\n",
    "plt.subplot(2, 5, 8)\n",
    "plt.imshow(dataframe_ranking_loo.overlapping[80],cmap=plt.cm.prism_r)\n",
    "plt.title('num_fea=80')\n",
    "plt.subplot(2, 5, 9)\n",
    "plt.imshow(dataframe_ranking_loo.overlapping[90],cmap=plt.cm.prism_r)\n",
    "plt.title('num_fea=90')\n",
    "plt.subplot(2, 5, 10)\n",
    "plt.imshow(dataframe_ranking_loo.overlapping[100],cmap=plt.cm.prism_r)\n",
    "plt.title('num_fea=100')"
   ]
  },
  {
   "cell_type": "markdown",
   "metadata": {},
   "source": [
    "## Average similarity matrix"
   ]
  },
  {
   "cell_type": "code",
   "execution_count": 13,
   "metadata": {},
   "outputs": [],
   "source": [
    "average_similarity_5fold=dataframe_ranking_5fold.overlapping.mean()\n",
    "average_similarity_10fold=dataframe_ranking_10fold.overlapping.mean()\n",
    "average_similarity_loo=dataframe_ranking_loo.overlapping.mean()"
   ]
  },
  {
   "cell_type": "code",
   "execution_count": 14,
   "metadata": {},
   "outputs": [
    {
     "data": {
      "text/plain": [
       "Text(0.5, 1.0, 'Average similarity case 5 fold CV')"
      ]
     },
     "execution_count": 14,
     "metadata": {},
     "output_type": "execute_result"
    },
    {
     "data": {
      "image/png": "[encoded data removed]",
      "text/plain": [
       "<Figure size 432x288 with 1 Axes>"
      ]
     },
     "metadata": {
      "needs_background": "light"
     },
     "output_type": "display_data"
    }
   ],
   "source": [
    "#sns.heatmap(dataframe_ranking_5fold.overlapping.mean())\n",
    "plt.imshow(average_similarity_5fold,cmap=plt.cm.prism_r)\n",
    "plt.title('Average similarity case 5 fold CV')"
   ]
  },
  {
   "cell_type": "code",
   "execution_count": 19,
   "metadata": {},
   "outputs": [
    {
     "data": {
      "text/plain": [
       "Text(0.5, 1.0, 'Average similarity case 10 fold CV')"
      ]
     },
     "execution_count": 19,
     "metadata": {},
     "output_type": "execute_result"
    },
    {
     "data": {
      "image/png": "[encoded data removed]",
      "text/plain": [
       "<Figure size 432x288 with 1 Axes>"
      ]
     },
     "metadata": {
      "needs_background": "light"
     },
     "output_type": "display_data"
    }
   ],
   "source": [
    "plt.imshow(average_similarity_10fold,cmap=plt.cm.prism_r)\n",
    "plt.title('Average similarity case 10 fold CV')"
   ]
  },
  {
   "cell_type": "code",
   "execution_count": 20,
   "metadata": {},
   "outputs": [
    {
     "data": {
      "text/plain": [
       "Text(0.5, 1.0, 'Average similarity case LOO CV')"
      ]
     },
     "execution_count": 20,
     "metadata": {},
     "output_type": "execute_result"
    },
    {
     "data": {
      "image/png": "[encoded data removed]",
      "text/plain": [
       "<Figure size 432x288 with 1 Axes>"
      ]
     },
     "metadata": {
      "needs_background": "light"
     },
     "output_type": "display_data"
    }
   ],
   "source": [
    "plt.imshow(average_similarity_loo,cmap=plt.cm.prism_r)\n",
    "plt.title('Average similarity case LOO CV')"
   ]
  },
  {
   "cell_type": "markdown",
   "metadata": {},
   "source": [
    "### Accuracy similarity matrix"
   ]
  },
  {
   "cell_type": "code",
   "execution_count": 15,
   "metadata": {},
   "outputs": [],
   "source": [
    "df_5fold_acc=dataframe_accuracies_5fold.copy()\n",
    "df_10fold_acc=dataframe_accuracies_10fold.copy()\n",
    "df_loo_acc=dataframe_accuracies_loo.copy()"
   ]
  },
  {
   "cell_type": "code",
   "execution_count": 16,
   "metadata": {},
   "outputs": [],
   "source": [
    "df_5fold_acc.loc['mean'] =df_5fold_acc.mean()\n",
    "df_10fold_acc.loc['mean'] =df_10fold_acc.mean()\n",
    "df_loo_acc.loc['mean'] =df_loo_acc.mean()"
   ]
  },
  {
   "cell_type": "code",
   "execution_count": 17,
   "metadata": {},
   "outputs": [],
   "source": [
    "acc_sim_matrix_5fold=matrix_acc(list(df_5fold_acc.loc['mean']))\n",
    "acc_sim_matrix_10fold=matrix_acc(list(df_10fold_acc.loc['mean']))\n",
    "acc_sim_matrix_loo=matrix_acc(list(df_loo_acc.loc['mean']))"
   ]
  },
  {
   "cell_type": "code",
   "execution_count": 18,
   "metadata": {},
   "outputs": [
    {
     "data": {
      "text/plain": [
       "Text(0.5, 1.0, 'Average accuracy similarity matrix case 5-fold CV')"
      ]
     },
     "execution_count": 18,
     "metadata": {},
     "output_type": "execute_result"
    },
    {
     "data": {
      "image/png": "[encoded data removed]",
      "text/plain": [
       "<Figure size 432x288 with 1 Axes>"
      ]
     },
     "metadata": {
      "needs_background": "light"
     },
     "output_type": "display_data"
    }
   ],
   "source": [
    "plt.imshow(acc_sim_matrix_5fold,cmap=plt.cm.prism_r)\n",
    "plt.title('Average accuracy similarity matrix case 5-fold CV')"
   ]
  },
  {
   "cell_type": "code",
   "execution_count": 25,
   "metadata": {},
   "outputs": [
    {
     "data": {
      "text/plain": [
       "Text(0.5, 1.0, 'Average accuracy similarity matrix case 10-fold CV')"
      ]
     },
     "execution_count": 25,
     "metadata": {},
     "output_type": "execute_result"
    },
    {
     "data": {
      "image/png": "[encoded data removed]",
      "text/plain": [
       "<Figure size 432x288 with 1 Axes>"
      ]
     },
     "metadata": {
      "needs_background": "light"
     },
     "output_type": "display_data"
    }
   ],
   "source": [
    "plt.imshow(acc_sim_matrix_10fold,cmap=plt.cm.prism_r)\n",
    "plt.title('Average accuracy similarity matrix case 10-fold CV')"
   ]
  },
  {
   "cell_type": "code",
   "execution_count": 26,
   "metadata": {},
   "outputs": [
    {
     "data": {
      "text/plain": [
       "Text(0.5, 1.0, 'Average accuracy similarity matrix case loo CV')"
      ]
     },
     "execution_count": 26,
     "metadata": {},
     "output_type": "execute_result"
    },
    {
     "data": {
      "image/png": "[encoded data removed]",
      "text/plain": [
       "<Figure size 432x288 with 1 Axes>"
      ]
     },
     "metadata": {
      "needs_background": "light"
     },
     "output_type": "display_data"
    }
   ],
   "source": [
    "plt.imshow(acc_sim_matrix_loo,cmap=plt.cm.prism_r)\n",
    "plt.title('Average accuracy similarity matrix case loo CV')"
   ]
  },
  {
   "cell_type": "markdown",
   "metadata": {},
   "source": [
    "### Final similarity without stability"
   ]
  },
  {
   "cell_type": "code",
   "execution_count": 19,
   "metadata": {},
   "outputs": [
    {
     "data": {
      "text/plain": [
       "Text(0.5, 1.0, 'Final similarity matrix without stability: 5-fold cv')"
      ]
     },
     "execution_count": 19,
     "metadata": {},
     "output_type": "execute_result"
    },
    {
     "data": {
      "image/png": "[encoded data removed]",
      "text/plain": [
       "<Figure size 432x288 with 1 Axes>"
      ]
     },
     "metadata": {
      "needs_background": "light"
     },
     "output_type": "display_data"
    }
   ],
   "source": [
    "Final_sim_5fold=np.multiply(average_similarity_5fold,acc_sim_matrix_5fold)\n",
    "plt.imshow(Final_sim_5fold,cmap=plt.cm.prism_r)\n",
    "plt.title('Final similarity matrix without stability: 5-fold cv')"
   ]
  },
  {
   "cell_type": "code",
   "execution_count": 20,
   "metadata": {},
   "outputs": [
    {
     "data": {
      "text/plain": [
       "Text(0.5, 1.0, 'Final similarity matrix without stability: 10-fold cv')"
      ]
     },
     "execution_count": 20,
     "metadata": {},
     "output_type": "execute_result"
    },
    {
     "data": {
      "image/png": "[encoded data removed]",
      "text/plain": [
       "<Figure size 432x288 with 1 Axes>"
      ]
     },
     "metadata": {
      "needs_background": "light"
     },
     "output_type": "display_data"
    }
   ],
   "source": [
    "Final_sim_10fold=np.multiply(average_similarity_10fold,acc_sim_matrix_10fold)\n",
    "plt.imshow(Final_sim_10fold,cmap=plt.cm.prism_r)\n",
    "plt.title('Final similarity matrix without stability: 10-fold cv')"
   ]
  },
  {
   "cell_type": "code",
   "execution_count": 21,
   "metadata": {},
   "outputs": [
    {
     "data": {
      "text/plain": [
       "Text(0.5, 1.0, 'Final similarity matrix without stability: LOO cv')"
      ]
     },
     "execution_count": 21,
     "metadata": {},
     "output_type": "execute_result"
    },
    {
     "data": {
      "image/png": "[encoded data removed]",
      "text/plain": [
       "<Figure size 432x288 with 1 Axes>"
      ]
     },
     "metadata": {
      "needs_background": "light"
     },
     "output_type": "display_data"
    }
   ],
   "source": [
    "Final_sim_loo=np.multiply(average_similarity_loo,acc_sim_matrix_loo)\n",
    "plt.imshow(Final_sim_loo,cmap=plt.cm.prism_r)\n",
    "plt.title('Final similarity matrix without stability: LOO cv')"
   ]
  },
  {
   "cell_type": "markdown",
   "metadata": {},
   "source": [
    "### Binary overlapping for FS reliefF and k =10 (5-fold,10fold and LOO)"
   ]
  },
  {
   "cell_type": "code",
   "execution_count": 35,
   "metadata": {},
   "outputs": [],
   "source": [
    "from helpers.reproducibility import *"
   ]
  },
  {
   "cell_type": "code",
   "execution_count": 36,
   "metadata": {},
   "outputs": [],
   "source": [
    "def binary_intersection(a,b,k):\n",
    "    ''' A function that return the percentage of common elements to both a and b'''\n",
    "    sum_=0\n",
    "    for x in range(a.shape[0]):\n",
    "        for y in range(a.shape[1]):\n",
    "            sum_+=np.sum((a[x,y]==b[x,y]))\n",
    "    #percentage=(sum_*100)/k\n",
    "    percentage=(sum_*100)/b.size\n",
    "    return(percentage)"
   ]
  },
  {
   "cell_type": "code",
   "execution_count": 37,
   "metadata": {},
   "outputs": [],
   "source": [
    "def binary_matrice(FS_k,k):\n",
    "    n=len(FS_k)\n",
    "    m=np.ones((n,n))\n",
    "    for i in range(n):\n",
    "        for j in range(i+1,n):\n",
    "            m[i,j]=binary_intersection(FS_k[i],FS_k[j],k)\n",
    "            m[j,i]=m[i,j]\n",
    "   # for i in range(n):\n",
    "    #    m[i,i]=intersection(FS_k[i],FS_k[i])/100\n",
    "    return(m)"
   ]
  },
  {
   "cell_type": "code",
   "execution_count": 38,
   "metadata": {},
   "outputs": [],
   "source": [
    "FS_k=[dataframe_ranking_5fold.overlapping[10],dataframe_ranking_10fold.overlapping[10],\n",
    "      dataframe_ranking_loo.overlapping[10]]\n",
    "k=10"
   ]
  },
  {
   "cell_type": "code",
   "execution_count": 39,
   "metadata": {},
   "outputs": [],
   "source": [
    "labels=['5fold','10fold','LOO']\n",
    "dataframe=pd.DataFrame(binary_matrice(FS_k,k),columns=labels,index=labels)"
   ]
  },
  {
   "cell_type": "code",
   "execution_count": 40,
   "metadata": {},
   "outputs": [
    {
     "data": {
      "text/plain": [
       "Text(0.5, 1.0, 'The overlap in % between top 10 features discovered using a pair of CV methods')"
      ]
     },
     "execution_count": 40,
     "metadata": {},
     "output_type": "execute_result"
    },
    {
     "data": {
      "image/png": "[encoded data removed]",
      "text/plain": [
       "<Figure size 432x288 with 1 Axes>"
      ]
     },
     "metadata": {
      "needs_background": "light"
     },
     "output_type": "display_data"
    }
   ],
   "source": [
    "#sns.heatmap(dataframe)\n",
    "plt.imshow(dataframe)\n",
    "plt.title('The overlap in % between top 10 features discovered using a pair of CV methods')"
   ]
  },
  {
   "cell_type": "code",
   "execution_count": 46,
   "metadata": {},
   "outputs": [
    {
     "data": {
      "text/plain": [
       "[<module 'skfeature.function.similarity_based.reliefF' from '/home/raoua/anaconda3/lib/python3.6/site-packages/skfeature/function/similarity_based/reliefF.py'>,\n",
       " <module 'skfeature.function.similarity_based.lap_score' from '/home/raoua/anaconda3/lib/python3.6/site-packages/skfeature/function/similarity_based/lap_score.py'>,\n",
       " <module 'skfeature.function.sparse_learning_based.ll_l21' from '/home/raoua/anaconda3/lib/python3.6/site-packages/skfeature/function/sparse_learning_based/ll_l21.py'>,\n",
       " <module 'skfeature.function.sparse_learning_based.ls_l21' from '/home/raoua/anaconda3/lib/python3.6/site-packages/skfeature/function/sparse_learning_based/ls_l21.py'>,\n",
       " <module 'skfeature.function.sparse_learning_based.UDFS' from '/home/raoua/anaconda3/lib/python3.6/site-packages/skfeature/function/sparse_learning_based/UDFS.py'>,\n",
       " <module 'skfeature.function.similarity_based.fisher_score' from '/home/raoua/anaconda3/lib/python3.6/site-packages/skfeature/function/similarity_based/fisher_score.py'>,\n",
       " <module 'skfeature.function.statistical_based.chi_square' from '/home/raoua/anaconda3/lib/python3.6/site-packages/skfeature/function/statistical_based/chi_square.py'>,\n",
       " <module 'skfeature.function.statistical_based.gini_index' from '/home/raoua/anaconda3/lib/python3.6/site-packages/skfeature/function/statistical_based/gini_index.py'>,\n",
       " <module 'skfeature.function.similarity_based.SPEC' from '/home/raoua/anaconda3/lib/python3.6/site-packages/skfeature/function/similarity_based/SPEC.py'>]"
      ]
     },
     "execution_count": 46,
     "metadata": {},
     "output_type": "execute_result"
    }
   ],
   "source": [
    "pool_FS"
   ]
  },
  {
   "cell_type": "markdown",
   "metadata": {},
   "source": [
    "# Without stability"
   ]
  },
  {
   "cell_type": "markdown",
   "metadata": {},
   "source": [
    "### Identify the most reproducible feature selection method"
   ]
  },
  {
   "cell_type": "code",
   "execution_count": 28,
   "metadata": {},
   "outputs": [],
   "source": [
    "# Centrality measure \n",
    "import networkx as nx\n",
    "G_5fold=nx.from_numpy_matrix(Final_sim_5fold)\n",
    "#centrality_5fold=nx.degree_centrality(G_5fold)"
   ]
  },
  {
   "cell_type": "raw",
   "metadata": {},
   "source": [
    "centrality_5fold"
   ]
  },
  {
   "cell_type": "raw",
   "metadata": {},
   "source": [
    "import networkx as nx\n",
    "normalized_G=nx.from_numpy_matrix(Final_sim_5fold)"
   ]
  },
  {
   "cell_type": "code",
   "execution_count": 29,
   "metadata": {},
   "outputs": [],
   "source": [
    "G_10fold=nx.from_numpy_matrix(Final_sim_10fold)\n",
    "#centrality_10fold=nx.degree_centrality(G_10fold)"
   ]
  },
  {
   "cell_type": "code",
   "execution_count": 30,
   "metadata": {},
   "outputs": [],
   "source": [
    "G_loo=nx.from_numpy_matrix(Final_sim_loo)\n",
    "#centrality_loo=nx.degree_centrality(G_loo)"
   ]
  },
  {
   "cell_type": "raw",
   "metadata": {},
   "source": [
    "centrality_loo"
   ]
  },
  {
   "cell_type": "markdown",
   "metadata": {},
   "source": [
    "#### Calculate betweenness and closeness centrality"
   ]
  },
  {
   "cell_type": "code",
   "execution_count": 41,
   "metadata": {},
   "outputs": [],
   "source": [
    "bc_5fold=nx.betweenness_centrality(G_5fold)\n",
    "cc_5fold=nx.closeness_centrality(G_5fold)"
   ]
  },
  {
   "cell_type": "code",
   "execution_count": 42,
   "metadata": {},
   "outputs": [],
   "source": [
    "bc_10fold=nx.betweenness_centrality(G_10fold)\n",
    "cc_10fold=nx.closeness_centrality(G_10fold)"
   ]
  },
  {
   "cell_type": "code",
   "execution_count": 43,
   "metadata": {},
   "outputs": [],
   "source": [
    "bc_loo=nx.betweenness_centrality(G_loo)\n",
    "cc_loo=nx.closeness_centrality(G_loo)"
   ]
  },
  {
   "cell_type": "code",
   "execution_count": 44,
   "metadata": {},
   "outputs": [
    {
     "data": {
      "text/plain": [
       "{0: 0.023809523809523808,\n",
       " 1: 0.013095238095238094,\n",
       " 2: 0.04285714285714285,\n",
       " 3: 0.1125,\n",
       " 4: 0.04583333333333332,\n",
       " 5: 0.007142857142857143,\n",
       " 6: 0.05595238095238095,\n",
       " 7: 0.026785714285714284,\n",
       " 8: 0.06488095238095237}"
      ]
     },
     "execution_count": 44,
     "metadata": {},
     "output_type": "execute_result"
    }
   ],
   "source": [
    "bc_5fold"
   ]
  },
  {
   "cell_type": "code",
   "execution_count": 45,
   "metadata": {},
   "outputs": [
    {
     "data": {
      "text/plain": [
       "{0: 0.7272727272727273,\n",
       " 1: 0.6666666666666666,\n",
       " 2: 0.8,\n",
       " 3: 0.8888888888888888,\n",
       " 4: 0.8,\n",
       " 5: 0.6666666666666666,\n",
       " 6: 0.8,\n",
       " 7: 0.7272727272727273,\n",
       " 8: 0.8888888888888888}"
      ]
     },
     "execution_count": 45,
     "metadata": {},
     "output_type": "execute_result"
    }
   ],
   "source": [
    "cc_5fold"
   ]
  },
  {
   "cell_type": "code",
   "execution_count": 43,
   "metadata": {},
   "outputs": [
    {
     "data": {
      "text/plain": [
       "Text(0.5, 1.0, 'Betweeness centrality 5-fold')"
      ]
     },
     "execution_count": 43,
     "metadata": {},
     "output_type": "execute_result"
    },
    {
     "data": {
      "image/png": "[encoded data removed]",
      "text/plain": [
       "<Figure size 432x288 with 1 Axes>"
      ]
     },
     "metadata": {
      "needs_background": "light"
     },
     "output_type": "display_data"
    }
   ],
   "source": [
    "plt.hist(bc_5fold.values())\n",
    "plt.title('Betweeness centrality 5-fold')"
   ]
  },
  {
   "cell_type": "code",
   "execution_count": 44,
   "metadata": {},
   "outputs": [
    {
     "data": {
      "text/plain": [
       "Text(0.5, 1.0, 'closeness centrality 5-fold')"
      ]
     },
     "execution_count": 44,
     "metadata": {},
     "output_type": "execute_result"
    },
    {
     "data": {
      "image/png": "[encoded data removed]",
      "text/plain": [
       "<Figure size 432x288 with 1 Axes>"
      ]
     },
     "metadata": {
      "needs_background": "light"
     },
     "output_type": "display_data"
    }
   ],
   "source": [
    "plt.hist(cc_5fold.values())\n",
    "plt.title('closeness centrality 5-fold')"
   ]
  },
  {
   "cell_type": "code",
   "execution_count": 47,
   "metadata": {},
   "outputs": [
    {
     "data": {
      "text/plain": [
       "{0: 0.08035714285714284,\n",
       " 1: 0.07738095238095238,\n",
       " 2: 0.05059523809523809,\n",
       " 3: 0.23809523809523808,\n",
       " 4: 0.0,\n",
       " 5: 0.07142857142857142,\n",
       " 6: 0.008928571428571428,\n",
       " 7: 0.011904761904761904,\n",
       " 8: 0.13988095238095236}"
      ]
     },
     "execution_count": 47,
     "metadata": {},
     "output_type": "execute_result"
    }
   ],
   "source": [
    "bc_10fold"
   ]
  },
  {
   "cell_type": "code",
   "execution_count": 48,
   "metadata": {},
   "outputs": [
    {
     "data": {
      "text/plain": [
       "{0: 0.7272727272727273,\n",
       " 1: 0.6666666666666666,\n",
       " 2: 0.6666666666666666,\n",
       " 3: 0.8,\n",
       " 4: 0.5714285714285714,\n",
       " 5: 0.6666666666666666,\n",
       " 6: 0.5714285714285714,\n",
       " 7: 0.5714285714285714,\n",
       " 8: 0.7272727272727273}"
      ]
     },
     "execution_count": 48,
     "metadata": {},
     "output_type": "execute_result"
    }
   ],
   "source": [
    "cc_10fold"
   ]
  },
  {
   "cell_type": "code",
   "execution_count": 49,
   "metadata": {},
   "outputs": [
    {
     "data": {
      "text/plain": [
       "{0: 0.16369047619047616,\n",
       " 1: 0.017857142857142856,\n",
       " 2: 0.10714285714285714,\n",
       " 3: 0.45535714285714285,\n",
       " 4: 0.0,\n",
       " 5: 0.011904761904761904,\n",
       " 6: 0.026785714285714284,\n",
       " 7: 0.11607142857142856,\n",
       " 8: 0.029761904761904757}"
      ]
     },
     "execution_count": 49,
     "metadata": {},
     "output_type": "execute_result"
    }
   ],
   "source": [
    "bc_loo"
   ]
  },
  {
   "cell_type": "code",
   "execution_count": 50,
   "metadata": {},
   "outputs": [
    {
     "data": {
      "text/plain": [
       "{0: 0.6666666666666666,\n",
       " 1: 0.5333333333333333,\n",
       " 2: 0.6666666666666666,\n",
       " 3: 0.8,\n",
       " 4: 0.5,\n",
       " 5: 0.47058823529411764,\n",
       " 6: 0.5714285714285714,\n",
       " 7: 0.6153846153846154,\n",
       " 8: 0.5333333333333333}"
      ]
     },
     "execution_count": 50,
     "metadata": {},
     "output_type": "execute_result"
    }
   ],
   "source": [
    "cc_loo"
   ]
  },
  {
   "cell_type": "code",
   "execution_count": 108,
   "metadata": {},
   "outputs": [
    {
     "data": {
      "text/plain": [
       "Text(0.5, 1.0, 'Betweeness centrality 10-fold')"
      ]
     },
     "execution_count": 108,
     "metadata": {},
     "output_type": "execute_result"
    },
    {
     "data": {
      "image/png": "[encoded data removed]",
      "text/plain": [
       "<Figure size 360x360 with 1 Axes>"
      ]
     },
     "metadata": {
      "needs_background": "light"
     },
     "output_type": "display_data"
    }
   ],
   "source": [
    "plt.hist(bc_10fold.values())\n",
    "plt.title('Betweeness centrality 10-fold')"
   ]
  },
  {
   "cell_type": "code",
   "execution_count": 109,
   "metadata": {},
   "outputs": [
    {
     "data": {
      "text/plain": [
       "Text(0.5, 1.0, 'Closeness centrality 10-fold')"
      ]
     },
     "execution_count": 109,
     "metadata": {},
     "output_type": "execute_result"
    },
    {
     "data": {
      "image/png": "[encoded data removed]",
      "text/plain": [
       "<Figure size 360x360 with 1 Axes>"
      ]
     },
     "metadata": {
      "needs_background": "light"
     },
     "output_type": "display_data"
    }
   ],
   "source": [
    "plt.hist(cc_10fold.values())\n",
    "plt.title('Closeness centrality 10-fold')"
   ]
  },
  {
   "cell_type": "code",
   "execution_count": 110,
   "metadata": {},
   "outputs": [
    {
     "data": {
      "text/plain": [
       "Text(0.5, 1.0, 'Betweeness centrality loo')"
      ]
     },
     "execution_count": 110,
     "metadata": {},
     "output_type": "execute_result"
    },
    {
     "data": {
      "image/png": "[encoded data removed]",
      "text/plain": [
       "<Figure size 360x360 with 1 Axes>"
      ]
     },
     "metadata": {
      "needs_background": "light"
     },
     "output_type": "display_data"
    }
   ],
   "source": [
    "plt.hist(bc_loo.values())\n",
    "plt.title('Betweeness centrality loo')"
   ]
  },
  {
   "cell_type": "code",
   "execution_count": 111,
   "metadata": {},
   "outputs": [
    {
     "data": {
      "text/plain": [
       "Text(0.5, 1.0, 'Closeness centrality loo')"
      ]
     },
     "execution_count": 111,
     "metadata": {},
     "output_type": "execute_result"
    },
    {
     "data": {
      "image/png": "[encoded data removed]",
      "text/plain": [
       "<Figure size 360x360 with 1 Axes>"
      ]
     },
     "metadata": {
      "needs_background": "light"
     },
     "output_type": "display_data"
    }
   ],
   "source": [
    "plt.hist(cc_loo.values())\n",
    "plt.title('Closeness centrality loo')"
   ]
  },
  {
   "cell_type": "code",
   "execution_count": 45,
   "metadata": {},
   "outputs": [
    {
     "name": "stdout",
     "output_type": "stream",
     "text": [
      "Nodes of graph: \n",
      "[0, 1, 2, 3, 4, 5, 6, 7, 8]\n",
      "Edges of graph: \n",
      "[(0, 0), (0, 1), (0, 3), (0, 4), (0, 6), (0, 8), (1, 1), (1, 2), (1, 3), (1, 6), (2, 2), (2, 3), (2, 4), (2, 6), (2, 7), (2, 8), (3, 3), (3, 4), (3, 5), (3, 7), (3, 8), (4, 4), (4, 5), (4, 6), (4, 8), (5, 5), (5, 7), (5, 8), (6, 6), (6, 7), (6, 8), (7, 7), (7, 8), (8, 8)]\n"
     ]
    },
    {
     "data": {
      "image/png": "[encoded data removed]",
      "text/plain": [
       "<Figure size 432x288 with 1 Axes>"
      ]
     },
     "metadata": {},
     "output_type": "display_data"
    }
   ],
   "source": [
    "import networkx as nx\n",
    "import matplotlib.pyplot as plt\n",
    "\n",
    "#G=nx.path_graph(4)\n",
    "\n",
    "print(\"Nodes of graph: \")\n",
    "print(G_5fold.nodes())\n",
    "print(\"Edges of graph: \")\n",
    "print(G_5fold.edges())\n",
    "nx.draw(G_5fold)\n",
    "#plt.savefig(\"path_graph1.png\")\n",
    "plt.show()"
   ]
  },
  {
   "cell_type": "code",
   "execution_count": 46,
   "metadata": {},
   "outputs": [
    {
     "data": {
      "image/png": "[encoded data removed]",
      "text/plain": [
       "<Figure size 432x288 with 1 Axes>"
      ]
     },
     "metadata": {},
     "output_type": "display_data"
    }
   ],
   "source": [
    "import matplotlib.pyplot as plt\n",
    "\n",
    "import networkx as nx\n",
    "G=G_loo\n",
    "#G=nx.from_numpy_matrix(final_sim_kf5)\n",
    "pos=nx.spring_layout(G) # positions for all nodes\n",
    "\n",
    "# nodes\n",
    "nx.draw_networkx_nodes(G,pos,\n",
    "                       nodelist=[0,1,2,3,4,5,6,7,8],\n",
    "                       node_color='r',\n",
    "                       node_size=500,\n",
    "                   alpha=0.8)\n",
    "#nx.draw_networkx_nodes(G,pos,\n",
    "#                       nodelist=[4,5,6,7],\n",
    "#                       node_color='b',\n",
    "#                       node_size=500,\n",
    "#                   alpha=0.8)\n",
    "\n",
    "# edges\n",
    "nx.draw_networkx_edges(G,pos,width=1.0,alpha=0.5)\n",
    "nx.draw_networkx_edges(G,pos,\n",
    "                       width=2,alpha=0.5,edge_color='b')\n",
    "#nx.draw_networkx_edges(G,pos,\n",
    "#                       edgelist=[(4,5),(5,6),(6,7),(7,4)],\n",
    "#                       width=8,alpha=0.5,edge_color='b')\n",
    "\n",
    "#reliefF,lap_score,ll_l21,UDFS,fisher_score,chi_square,gini_index\n",
    "# some math labels\n",
    "labels={}\n",
    "labels[0]=r'reliefF'\n",
    "labels[1]=r'lap_score'\n",
    "labels[2]=r'll_l21'\n",
    "labels[3]=r'ls_l21'\n",
    "labels[4]=r'UDFS'\n",
    "labels[5]=r'fisher_score'\n",
    "labels[6]=r'chi_square'\n",
    "labels[7]=r'gini_index'\n",
    "labels[8]=r'SPEC'\n",
    "nx.draw_networkx_labels(G,pos,labels,font_size=12)\n",
    "\n",
    "#plt.axis('off')\n",
    "\n",
    "plt.rcParams[\"figure.figsize\"] = (5,5)\n",
    "#plt.savefig(\"5fold_graph.png\") # save as png\n",
    "#plt.figure(figsize=(10,10))\n",
    "plt.title('RH: loo graph')\n",
    "plt.show() # display"
   ]
  },
  {
   "cell_type": "markdown",
   "metadata": {},
   "source": [
    "# Stability construction"
   ]
  },
  {
   "cell_type": "code",
   "execution_count": 62,
   "metadata": {},
   "outputs": [],
   "source": [
    "from helpers.similarities import *"
   ]
  },
  {
   "cell_type": "code",
   "execution_count": 65,
   "metadata": {},
   "outputs": [],
   "source": [
    "\n",
    "def kuncheva_stability(featidx,d):\n",
    "    q,k = featidx.shape\n",
    "    #q = size(featidx,1);\n",
    "    #q=num_methods\n",
    "    r = np.zeros((q,q))\n",
    "    for n in range(1,q-1):\n",
    "        for m in range(n,q-1):\n",
    "            r[n,m] = len(np.intersect1d(featidx[n,0],featidx[n,1])) + len(np.intersect1d(featidx[n,0],featidx[n + 1,1])) + len(np.intersect1d(featidx[n,0],featidx[n-1,1]))\n",
    "    A = np.true_divide(np.subtract(r, (k**2/d)),(k-(k**2/d)))\n",
    "    S = 2*sum(sum(A))/(q*(q-1))\n",
    "    return(S)\n",
    "\n",
    "def get_ranking_matrix(a,k):\n",
    "    #The columns are the respective rankings of pool_FS\n",
    "    #a=dataframe_ranking_5fold.loc[10]\n",
    "    #a=a.as_matrix(columns=None)\n",
    "    a=np.array(a)\n",
    "    b=np.zeros((k,len(pool_FS)))\n",
    "    for i in range(len(a)):\n",
    "        b[:,i]=a[i]\n",
    "    return(b)\n",
    "\n",
    "def normalize_stability(matrix):\n",
    "    n,m=matrix.shape\n",
    "    norm_mat = np.zeros((n,m))\n",
    "    for i in range(n):\n",
    "        for j in range(m):\n",
    "            norm_mat[i,j] = 100*(matrix[i,j] - np.min(matrix)) / (np.max(matrix) - np.min(matrix))\n",
    "    return(norm_mat)\n",
    "\n",
    "def get_stability(ranking_matrix):\n",
    "    \n",
    "    stab_mat=np.zeros((len(pool_FS),len(pool_FS)))\n",
    "    for i in range(len(pool_FS)):\n",
    "        for j in range(len(pool_FS)):\n",
    "            if i!=j:\n",
    "                stab_mat[i,j] = kuncheva_stability(np.transpose(np.vstack((ranking_matrix[:,i],ranking_matrix[:,j]))),595)\n",
    "    stab_mat=np.abs(stab_mat)\n",
    "    stab_mat=normalize_stability(stab_mat)\n",
    "    return(stab_mat)\n",
    "\n",
    "def rowStability(row):\n",
    "    matrix=get_ranking_matrix(row,row.name)\n",
    "    return(get_stability(matrix))"
   ]
  },
  {
   "cell_type": "code",
   "execution_count": 66,
   "metadata": {},
   "outputs": [],
   "source": [
    "pool_FS=[reliefF,lap_score,ll_l21,ls_l21,UDFS,fisher_score,chi_square,gini_index,SPEC]"
   ]
  },
  {
   "cell_type": "code",
   "execution_count": 47,
   "metadata": {},
   "outputs": [],
   "source": [
    "df_ranking_5fold=dataframe_ranking_5fold.copy()"
   ]
  },
  {
   "cell_type": "code",
   "execution_count": 48,
   "metadata": {},
   "outputs": [],
   "source": [
    "df_ranking_10fold=dataframe_ranking_10fold.copy()"
   ]
  },
  {
   "cell_type": "code",
   "execution_count": 49,
   "metadata": {},
   "outputs": [],
   "source": [
    "df_ranking_loo=dataframe_ranking_loo.copy()"
   ]
  },
  {
   "cell_type": "code",
   "execution_count": 50,
   "metadata": {},
   "outputs": [],
   "source": [
    "df_ranking_5fold.drop(['overlapping'],axis=1,inplace=True)"
   ]
  },
  {
   "cell_type": "code",
   "execution_count": 51,
   "metadata": {},
   "outputs": [],
   "source": [
    "df_ranking_10fold.drop(['overlapping'],axis=1,inplace=True)"
   ]
  },
  {
   "cell_type": "code",
   "execution_count": 52,
   "metadata": {},
   "outputs": [],
   "source": [
    "df_ranking_loo.drop(['overlapping'],axis=1,inplace=True)"
   ]
  },
  {
   "cell_type": "code",
   "execution_count": 53,
   "metadata": {},
   "outputs": [
    {
     "data": {
      "text/plain": [
       "Index(['reliefF', 'lap_score', 'll_l21', 'ls_l21', 'UDFS', 'fisher_score',\n",
       "       'chi_square', 'gini_index', 'SPEC'],\n",
       "      dtype='object')"
      ]
     },
     "execution_count": 53,
     "metadata": {},
     "output_type": "execute_result"
    }
   ],
   "source": [
    "df_ranking_5fold.columns"
   ]
  },
  {
   "cell_type": "code",
   "execution_count": 54,
   "metadata": {},
   "outputs": [],
   "source": [
    "df_ranking_5fold['stability']=df_ranking_5fold.apply(rowStability,axis=1)"
   ]
  },
  {
   "cell_type": "code",
   "execution_count": 61,
   "metadata": {},
   "outputs": [],
   "source": [
    "df_ranking_10fold['stability']=df_ranking_10fold.apply(rowStability,axis=1)"
   ]
  },
  {
   "cell_type": "code",
   "execution_count": 68,
   "metadata": {},
   "outputs": [],
   "source": [
    "df_ranking_loo['stability']=df_ranking_loo.apply(rowStability,axis=1)"
   ]
  },
  {
   "cell_type": "markdown",
   "metadata": {},
   "source": [
    "#### Mean stability K"
   ]
  },
  {
   "cell_type": "code",
   "execution_count": 69,
   "metadata": {},
   "outputs": [],
   "source": [
    "average_5fold_stability=df_ranking_5fold.stability.mean()\n",
    "average_10fold_stability=df_ranking_10fold.stability.mean()\n",
    "average_loo_stability=df_ranking_loo.stability.mean()"
   ]
  },
  {
   "cell_type": "markdown",
   "metadata": {},
   "source": [
    "### Store similarities for later use on Hypergraph Learning framework"
   ]
  },
  {
   "cell_type": "code",
   "execution_count": 73,
   "metadata": {},
   "outputs": [],
   "source": [
    "import pickle\n",
    "with open('RH_metrics/similarities/average_stability_5fold','wb') as f: pickle.dump(average_5fold_stability, f)\n",
    "with open('RH_metrics/similarities/average_stability_10fold','wb') as f: pickle.dump(average_10fold_stability, f)\n",
    "with open('RH_metrics/similarities/average_stability_loo','wb') as f: pickle.dump(average_loo_stability, f)"
   ]
  },
  {
   "cell_type": "markdown",
   "metadata": {},
   "source": [
    "### Uncomment this to read similarities"
   ]
  },
  {
   "cell_type": "raw",
   "metadata": {},
   "source": [
    "import pandas as pd \n",
    "average_5fold_stability=pd.read_pickle('RH_metrics/similarities/average_stability_5fold')\n",
    "average_10fold_stability=pd.read_pickle('RH_metrics/similarities/average_stability_10fold')\n",
    "average_loo_stability=pd.read_pickle('RH_metrics/similarities/average_stability_loo')"
   ]
  },
  {
   "cell_type": "code",
   "execution_count": 52,
   "metadata": {},
   "outputs": [
    {
     "data": {
      "text/plain": [
       "Text(0.5, 1.0, 'Distribution of mean stability')"
      ]
     },
     "execution_count": 52,
     "metadata": {},
     "output_type": "execute_result"
    },
    {
     "data": {
      "image/png": "[encoded data removed]",
      "text/plain": [
       "<Figure size 720x720 with 1 Axes>"
      ]
     },
     "metadata": {
      "needs_background": "light"
     },
     "output_type": "display_data"
    }
   ],
   "source": [
    "import matplotlib.pyplot as plt\n",
    "%matplotlib inline\n",
    "plt.rcParams[\"figure.figsize\"] = (10,10)\n",
    "plt.hist(average_5fold_stability)\n",
    "plt.title('Distribution of mean stability')"
   ]
  },
  {
   "cell_type": "code",
   "execution_count": 53,
   "metadata": {},
   "outputs": [
    {
     "name": "stdout",
     "output_type": "stream",
     "text": [
      "MinMaxScaler(copy=True, feature_range=(0, 1))\n"
     ]
    }
   ],
   "source": [
    "from sklearn.preprocessing import MinMaxScaler\n",
    "scaler = MinMaxScaler()\n",
    "print(scaler.fit(average_5fold_stability))"
   ]
  },
  {
   "cell_type": "code",
   "execution_count": 54,
   "metadata": {},
   "outputs": [],
   "source": [
    "normalized_stability=scaler.transform(average_5fold_stability)"
   ]
  },
  {
   "cell_type": "code",
   "execution_count": 55,
   "metadata": {},
   "outputs": [
    {
     "data": {
      "text/plain": [
       "Text(0.5, 1.0, 'Distribution of mean stability')"
      ]
     },
     "execution_count": 55,
     "metadata": {},
     "output_type": "execute_result"
    },
    {
     "data": {
      "image/png": "[encoded data removed]",
      "text/plain": [
       "<Figure size 720x720 with 1 Axes>"
      ]
     },
     "metadata": {
      "needs_background": "light"
     },
     "output_type": "display_data"
    }
   ],
   "source": [
    "plt.rcParams[\"figure.figsize\"] = (10,10)\n",
    "plt.hist(normalized_stability)\n",
    "plt.title('Distribution of mean stability')"
   ]
  },
  {
   "cell_type": "code",
   "execution_count": 56,
   "metadata": {},
   "outputs": [
    {
     "data": {
      "text/plain": [
       "Text(0.5, 1.0, 'RH: Average 5-fold stability')"
      ]
     },
     "execution_count": 56,
     "metadata": {},
     "output_type": "execute_result"
    },
    {
     "data": {
      "image/png": "[encoded data removed]",
      "text/plain": [
       "<Figure size 720x720 with 1 Axes>"
      ]
     },
     "metadata": {
      "needs_background": "light"
     },
     "output_type": "display_data"
    }
   ],
   "source": [
    "plt.imshow(average_5fold_stability,cmap=plt.cm.prism_r)\n",
    "plt.title('RH: Average 5-fold stability')"
   ]
  },
  {
   "cell_type": "code",
   "execution_count": 87,
   "metadata": {},
   "outputs": [
    {
     "data": {
      "text/plain": [
       "Text(0.5, 1.0, 'RH: Average 10-fold stability')"
      ]
     },
     "execution_count": 87,
     "metadata": {},
     "output_type": "execute_result"
    },
    {
     "data": {
      "image/png": "[encoded data removed]",
      "text/plain": [
       "<Figure size 360x360 with 1 Axes>"
      ]
     },
     "metadata": {
      "needs_background": "light"
     },
     "output_type": "display_data"
    }
   ],
   "source": [
    "plt.imshow(average_10fold_stability,cmap=plt.cm.prism_r)\n",
    "plt.title('RH: Average 10-fold stability')"
   ]
  },
  {
   "cell_type": "code",
   "execution_count": 88,
   "metadata": {},
   "outputs": [
    {
     "data": {
      "text/plain": [
       "Text(0.5, 1.0, 'RH: Average loo stability')"
      ]
     },
     "execution_count": 88,
     "metadata": {},
     "output_type": "execute_result"
    },
    {
     "data": {
      "image/png": "[encoded data removed]",
      "text/plain": [
       "<Figure size 360x360 with 1 Axes>"
      ]
     },
     "metadata": {
      "needs_background": "light"
     },
     "output_type": "display_data"
    }
   ],
   "source": [
    "plt.imshow(average_loo_stability,cmap=plt.cm.prism_r)\n",
    "plt.title('RH: Average loo stability')"
   ]
  },
  {
   "cell_type": "markdown",
   "metadata": {},
   "source": [
    "### Similarity with stability"
   ]
  },
  {
   "cell_type": "code",
   "execution_count": 90,
   "metadata": {},
   "outputs": [
    {
     "data": {
      "text/plain": [
       "array([[20.        , 17.93721973, 20.        , 20.        , 20.        ,\n",
       "        20.        , 20.        , 20.        , 20.        ],\n",
       "       [17.93721973, 20.        , 20.        , 10.03344482, 20.        ,\n",
       "        17.04545455, 20.        , 12.5       , 15.50387597],\n",
       "       [20.        , 20.        , 20.        , 11.26760563, 20.        ,\n",
       "        20.        , 20.        , 14.47527141, 18.66251944],\n",
       "       [20.        , 10.03344482, 11.26760563, 20.        , 12.25740552,\n",
       "        20.        , 10.83032491, 20.        , 20.        ],\n",
       "       [20.        , 20.        , 20.        , 12.25740552, 20.        ,\n",
       "        20.        , 20.        , 16.15074024, 20.        ],\n",
       "       [20.        , 17.04545455, 20.        , 20.        , 20.        ,\n",
       "        20.        , 19.48051948, 20.        , 20.        ],\n",
       "       [20.        , 20.        , 20.        , 10.83032491, 20.        ,\n",
       "        19.48051948, 20.        , 13.76146789, 17.49271137],\n",
       "       [20.        , 12.5       , 14.47527141, 20.        , 16.15074024,\n",
       "        20.        , 13.76146789, 20.        , 20.        ],\n",
       "       [20.        , 15.50387597, 18.66251944, 20.        , 20.        ,\n",
       "        20.        , 17.49271137, 20.        , 20.        ]])"
      ]
     },
     "execution_count": 90,
     "metadata": {},
     "output_type": "execute_result"
    }
   ],
   "source": [
    "acc_sim_matrix_5fold"
   ]
  },
  {
   "cell_type": "code",
   "execution_count": 57,
   "metadata": {},
   "outputs": [],
   "source": [
    "Final_sim_5fold_stability=np.multiply(acc_sim_matrix_5fold,average_similarity_5fold,average_5fold_stability)"
   ]
  },
  {
   "cell_type": "code",
   "execution_count": 58,
   "metadata": {},
   "outputs": [],
   "source": [
    "Final_sim_10fold_stability=np.multiply(acc_sim_matrix_10fold,average_similarity_10fold,average_10fold_stability)"
   ]
  },
  {
   "cell_type": "code",
   "execution_count": 59,
   "metadata": {},
   "outputs": [],
   "source": [
    "Final_sim_loo_stability=np.multiply(acc_sim_matrix_loo,average_similarity_loo,average_loo_stability)"
   ]
  },
  {
   "cell_type": "code",
   "execution_count": 60,
   "metadata": {},
   "outputs": [
    {
     "data": {
      "text/plain": [
       "Text(0.5, 1.0, 'RH: Final similarity matrice with stability 5fold')"
      ]
     },
     "execution_count": 60,
     "metadata": {},
     "output_type": "execute_result"
    },
    {
     "data": {
      "image/png": "[encoded data removed]",
      "text/plain": [
       "<Figure size 720x720 with 1 Axes>"
      ]
     },
     "metadata": {
      "needs_background": "light"
     },
     "output_type": "display_data"
    }
   ],
   "source": [
    "plt.imshow(Final_sim_5fold_stability,cmap=plt.cm.prism_r)\n",
    "plt.title('RH: Final similarity matrice with stability 5fold')"
   ]
  },
  {
   "cell_type": "code",
   "execution_count": 102,
   "metadata": {},
   "outputs": [
    {
     "data": {
      "text/plain": [
       "Text(0.5, 1.0, 'RH:Final similarity matrice with stability 10-fold')"
      ]
     },
     "execution_count": 102,
     "metadata": {},
     "output_type": "execute_result"
    },
    {
     "data": {
      "image/png": "[encoded data removed]",
      "text/plain": [
       "<Figure size 360x360 with 1 Axes>"
      ]
     },
     "metadata": {
      "needs_background": "light"
     },
     "output_type": "display_data"
    }
   ],
   "source": [
    "plt.imshow(Final_sim_10fold_stability,cmap=plt.cm.prism_r)\n",
    "plt.title('RH:Final similarity matrice with stability 10-fold')"
   ]
  },
  {
   "cell_type": "code",
   "execution_count": 103,
   "metadata": {},
   "outputs": [
    {
     "data": {
      "text/plain": [
       "Text(0.5, 1.0, 'RH:Final similarity matrice with stability loo')"
      ]
     },
     "execution_count": 103,
     "metadata": {},
     "output_type": "execute_result"
    },
    {
     "data": {
      "image/png": "[encoded data removed]",
      "text/plain": [
       "<Figure size 360x360 with 1 Axes>"
      ]
     },
     "metadata": {
      "needs_background": "light"
     },
     "output_type": "display_data"
    }
   ],
   "source": [
    "plt.imshow(Final_sim_loo_stability,cmap=plt.cm.prism_r)\n",
    "plt.title('RH:Final similarity matrice with stability loo')"
   ]
  },
  {
   "cell_type": "markdown",
   "metadata": {},
   "source": [
    "# Centrality  with stability"
   ]
  },
  {
   "cell_type": "code",
   "execution_count": 61,
   "metadata": {},
   "outputs": [],
   "source": [
    "import networkx as nx\n",
    "G_5fold_stability=nx.from_numpy_matrix(Final_sim_5fold_stability)\n",
    "G_10fold_stability=nx.from_numpy_matrix(Final_sim_10fold_stability)\n",
    "G_loo_stability=nx.from_numpy_matrix(Final_sim_loo_stability)\n",
    "#centrality_5fold_stability=nx.degree_centrality(G_5fold_stability)"
   ]
  },
  {
   "cell_type": "code",
   "execution_count": 62,
   "metadata": {},
   "outputs": [],
   "source": [
    "cc_5fold=nx.closeness_centrality(G_5fold_stability)\n",
    "bc_5fold=nx.betweenness_centrality(G_5fold_stability)\n",
    "cc_10fold=nx.closeness_centrality(G_10fold_stability)\n",
    "bc_10fold=nx.betweenness_centrality(G_10fold_stability)\n",
    "cc_loo=nx.closeness_centrality(G_loo_stability)\n",
    "bc_loo=nx.betweenness_centrality(G_loo_stability)"
   ]
  },
  {
   "cell_type": "code",
   "execution_count": 63,
   "metadata": {},
   "outputs": [
    {
     "data": {
      "text/plain": [
       "{0: 0.7272727272727273,\n",
       " 1: 0.6666666666666666,\n",
       " 2: 0.8,\n",
       " 3: 0.8888888888888888,\n",
       " 4: 0.8,\n",
       " 5: 0.6666666666666666,\n",
       " 6: 0.8,\n",
       " 7: 0.7272727272727273,\n",
       " 8: 0.8888888888888888}"
      ]
     },
     "execution_count": 63,
     "metadata": {},
     "output_type": "execute_result"
    }
   ],
   "source": [
    "cc_5fold"
   ]
  },
  {
   "cell_type": "code",
   "execution_count": 64,
   "metadata": {},
   "outputs": [
    {
     "data": {
      "text/plain": [
       "{0: 0.023809523809523808,\n",
       " 1: 0.013095238095238094,\n",
       " 2: 0.04285714285714285,\n",
       " 3: 0.1125,\n",
       " 4: 0.04583333333333332,\n",
       " 5: 0.007142857142857143,\n",
       " 6: 0.05595238095238095,\n",
       " 7: 0.026785714285714284,\n",
       " 8: 0.06488095238095237}"
      ]
     },
     "execution_count": 64,
     "metadata": {},
     "output_type": "execute_result"
    }
   ],
   "source": [
    "bc_5fold"
   ]
  },
  {
   "cell_type": "code",
   "execution_count": 65,
   "metadata": {},
   "outputs": [
    {
     "data": {
      "text/plain": [
       "{0: 0.7272727272727273,\n",
       " 1: 0.6666666666666666,\n",
       " 2: 0.6666666666666666,\n",
       " 3: 0.8,\n",
       " 4: 0.5714285714285714,\n",
       " 5: 0.6666666666666666,\n",
       " 6: 0.5714285714285714,\n",
       " 7: 0.5714285714285714,\n",
       " 8: 0.7272727272727273}"
      ]
     },
     "execution_count": 65,
     "metadata": {},
     "output_type": "execute_result"
    }
   ],
   "source": [
    "cc_10fold"
   ]
  },
  {
   "cell_type": "code",
   "execution_count": 112,
   "metadata": {},
   "outputs": [
    {
     "data": {
      "text/plain": [
       "Text(0.5, 1.0, 'Betweeness centrality 5-fold')"
      ]
     },
     "execution_count": 112,
     "metadata": {},
     "output_type": "execute_result"
    },
    {
     "data": {
      "image/png": "[encoded data removed]",
      "text/plain": [
       "<Figure size 360x360 with 1 Axes>"
      ]
     },
     "metadata": {
      "needs_background": "light"
     },
     "output_type": "display_data"
    }
   ],
   "source": [
    "plt.hist(bc_5fold.values())\n",
    "plt.title('Betweeness centrality 5-fold')"
   ]
  },
  {
   "cell_type": "code",
   "execution_count": 113,
   "metadata": {},
   "outputs": [
    {
     "data": {
      "text/plain": [
       "Text(0.5, 1.0, 'Closeness centrality 5-fold')"
      ]
     },
     "execution_count": 113,
     "metadata": {},
     "output_type": "execute_result"
    },
    {
     "data": {
      "image/png": "[encoded data removed]",
      "text/plain": [
       "<Figure size 360x360 with 1 Axes>"
      ]
     },
     "metadata": {
      "needs_background": "light"
     },
     "output_type": "display_data"
    }
   ],
   "source": [
    "plt.hist(cc_5fold.values())\n",
    "plt.title('Closeness centrality 5-fold')"
   ]
  },
  {
   "cell_type": "code",
   "execution_count": 195,
   "metadata": {},
   "outputs": [
    {
     "data": {
      "text/plain": [
       "{0: 0.8,\n",
       " 1: 0.7272727272727273,\n",
       " 2: 0.7272727272727273,\n",
       " 3: 0.8888888888888888,\n",
       " 4: 0.8,\n",
       " 5: 0.6666666666666666,\n",
       " 6: 0.8,\n",
       " 7: 0.8,\n",
       " 8: 0.8888888888888888}"
      ]
     },
     "execution_count": 195,
     "metadata": {},
     "output_type": "execute_result"
    }
   ],
   "source": [
    "cc_5fold"
   ]
  },
  {
   "cell_type": "code",
   "execution_count": 200,
   "metadata": {},
   "outputs": [
    {
     "data": {
      "text/plain": [
       "{0: 0.019047619047619046,\n",
       " 1: 0.057738095238095234,\n",
       " 2: 0.027976190476190474,\n",
       " 3: 0.1261904761904762,\n",
       " 4: 0.09345238095238093,\n",
       " 5: 0.08154761904761904,\n",
       " 6: 0.023214285714285715,\n",
       " 7: 0.01607142857142857,\n",
       " 8: 0.019047619047619046}"
      ]
     },
     "execution_count": 200,
     "metadata": {},
     "output_type": "execute_result"
    }
   ],
   "source": [
    "bc_10fold"
   ]
  },
  {
   "cell_type": "code",
   "execution_count": 201,
   "metadata": {},
   "outputs": [
    {
     "data": {
      "text/plain": [
       "{0: 0.6666666666666666,\n",
       " 1: 0.7272727272727273,\n",
       " 2: 0.7272727272727273,\n",
       " 3: 0.8888888888888888,\n",
       " 4: 0.8,\n",
       " 5: 0.8,\n",
       " 6: 0.7272727272727273,\n",
       " 7: 0.6666666666666666,\n",
       " 8: 0.6666666666666666}"
      ]
     },
     "execution_count": 201,
     "metadata": {},
     "output_type": "execute_result"
    }
   ],
   "source": [
    "cc_10fold"
   ]
  },
  {
   "cell_type": "code",
   "execution_count": 202,
   "metadata": {},
   "outputs": [
    {
     "data": {
      "text/plain": [
       "{0: 0.0,\n",
       " 1: 0.125,\n",
       " 2: 0.3988095238095238,\n",
       " 3: 0.15476190476190477,\n",
       " 4: 0.047619047619047616,\n",
       " 5: 0.10119047619047618,\n",
       " 6: 0.0,\n",
       " 7: 0.10714285714285714,\n",
       " 8: 0.10119047619047618}"
      ]
     },
     "execution_count": 202,
     "metadata": {},
     "output_type": "execute_result"
    }
   ],
   "source": [
    "bc_loo"
   ]
  },
  {
   "cell_type": "code",
   "execution_count": 203,
   "metadata": {},
   "outputs": [
    {
     "data": {
      "text/plain": [
       "{0: 0.5,\n",
       " 1: 0.5333333333333333,\n",
       " 2: 0.7272727272727273,\n",
       " 3: 0.6153846153846154,\n",
       " 4: 0.47058823529411764,\n",
       " 5: 0.5333333333333333,\n",
       " 6: 0.5,\n",
       " 7: 0.5714285714285714,\n",
       " 8: 0.6153846153846154}"
      ]
     },
     "execution_count": 203,
     "metadata": {},
     "output_type": "execute_result"
    }
   ],
   "source": [
    "cc_loo"
   ]
  },
  {
   "cell_type": "markdown",
   "metadata": {},
   "source": [
    "### Draw the graphs after stability "
   ]
  },
  {
   "cell_type": "code",
   "execution_count": 114,
   "metadata": {},
   "outputs": [
    {
     "data": {
      "image/png": "[encoded data removed]",
      "text/plain": [
       "<Figure size 360x360 with 1 Axes>"
      ]
     },
     "metadata": {},
     "output_type": "display_data"
    }
   ],
   "source": [
    "import matplotlib.pyplot as plt\n",
    "\n",
    "import networkx as nx\n",
    "G=G_loo_stability\n",
    "#G=nx.from_numpy_matrix(final_sim_kf5)\n",
    "pos=nx.spring_layout(G) # positions for all nodes\n",
    "\n",
    "# nodes\n",
    "nx.draw_networkx_nodes(G,pos,\n",
    "                       nodelist=[0,1,2,3,4,5,6,7,8],\n",
    "                       node_color='r',\n",
    "                       node_size=500,\n",
    "                   alpha=0.8)\n",
    "#nx.draw_networkx_nodes(G,pos,\n",
    "#                       nodelist=[4,5,6,7],\n",
    "#                       node_color='b',\n",
    "#                       node_size=500,\n",
    "#                   alpha=0.8)\n",
    "\n",
    "# edges\n",
    "nx.draw_networkx_edges(G,pos,width=1.0,alpha=0.5)\n",
    "nx.draw_networkx_edges(G,pos,\n",
    "                       width=2,alpha=0.5,edge_color='b')\n",
    "#nx.draw_networkx_edges(G,pos,\n",
    "#                       edgelist=[(4,5),(5,6),(6,7),(7,4)],\n",
    "#                       width=8,alpha=0.5,edge_color='b')\n",
    "\n",
    "#reliefF,lap_score,ll_l21,UDFS,fisher_score,chi_square,gini_index\n",
    "# some math labels\n",
    "labels={}\n",
    "labels[0]=r'reliefF'\n",
    "labels[1]=r'lap_score'\n",
    "labels[2]=r'll_l21'\n",
    "labels[3]=r'ls_l21'\n",
    "labels[4]=r'UDFS'\n",
    "labels[5]=r'fisher_score'\n",
    "labels[6]=r'chi_square'\n",
    "labels[7]=r'gini_index'\n",
    "labels[8]=r'SPEC'\n",
    "nx.draw_networkx_labels(G,pos,labels,font_size=12)\n",
    "\n",
    "#plt.axis('off')\n",
    "\n",
    "plt.rcParams[\"figure.figsize\"] = (5,5)\n",
    "#plt.savefig(\"5foldstability_graph.png\") # save as png\n",
    "plt.title('RH: loo graph with stability')\n",
    "#plt.figure(figsize=(10,10))\n",
    "plt.show() # display"
   ]
  },
  {
   "cell_type": "markdown",
   "metadata": {},
   "source": [
    "# Reproducibility"
   ]
  },
  {
   "cell_type": "code",
   "execution_count": 69,
   "metadata": {},
   "outputs": [],
   "source": [
    "def intersection(a,b):\n",
    "    ''' A function that return the percentage of common elements to both a and b'''\n",
    "    sum_=0\n",
    "    for x in range(a.shape[0]):\n",
    "       # for y in range(a.shape[1]):\n",
    "        sum_+=np.sum((a[x]==b[x]))\n",
    "    #percentage=(sum_*100)/a.size\n",
    "    percentage=(sum_)/a.size\n",
    "    return(percentage)"
   ]
  },
  {
   "cell_type": "code",
   "execution_count": 70,
   "metadata": {},
   "outputs": [],
   "source": [
    "def FS_to_FS_similarity(FS_k,k):\n",
    "    n=len(FS_k)\n",
    "    m=np.ones((n,n))\n",
    "    for i in range(n):\n",
    "        for j in range(i+1,n):\n",
    "            m[i,j]=intersection(FS_k[i],FS_k[j])/k\n",
    "            m[j,i]=m[i,j]\n",
    "    for i in range(n):\n",
    "        m[i,i]=intersection(FS_k[i],FS_k[i])/k#/100\n",
    "    return(m)"
   ]
  },
  {
   "cell_type": "code",
   "execution_count": 71,
   "metadata": {},
   "outputs": [],
   "source": [
    "def Nicholas_Reproducibility(k):\n",
    "    \n",
    "    top_k_ls_l21=[dataframe_ranking_5fold.ls_l21.loc[k],dataframe_ranking_10fold.ls_l21.loc[k],dataframe_ranking_loo.ls_l21.loc[k]]\n",
    "    #top_k_reliefF=[df_ranking_5fold.reliefF.loc[k],df_ranking_10fold.reliefF.loc[k],df_ranking_loo.reliefF.loc[k]]\n",
    "    #top_k_lap=[df_ranking_5fold.lap_score.loc[k],df_ranking_10fold.lap_score.loc[k],df_ranking_loo.lap_score.loc[k]]\n",
    "    #top_k_ll=[df_ranking_5fold.ll_l21.loc[k],df_ranking_10fold.ll_l21.loc[k],df_ranking_loo.ll_l21.loc[k]]\n",
    "    mat_ls_l21=FS_to_FS_similarity(top_k_ls_l21,k)\n",
    "    #mat_reliefF=FS_to_FS_similarity(top_k_reliefF,k)\n",
    "    #mat_lap=FS_to_FS_similarity(top_k_lap,k)\n",
    "    #mat_ll=FS_to_FS_similarity(top_k_ll,k)\n",
    "    #avg_mat= (mat_reliefF+mat_lap+mat_ll)/3\n",
    "    labels=['5fold','10fold','LOO']\n",
    "    dataframe_ls_l21=pd.DataFrame(mat_ls_l21,columns=labels,index=labels)\n",
    "    #dataframe_lap=pd.DataFrame(mat_lap,columns=labels,index=labels)\n",
    "    #dataframe_ll=pd.DataFrame(mat_ll,columns=labels,index=labels)\n",
    "    #dataframe_avg=pd.DataFrame(avg_mat,columns=labels,index=labels)\n",
    "    #return(dataframe_reliefF,dataframe_lap,dataframe_ll,dataframe_avg)\n",
    "    return(dataframe_ls_l21)"
   ]
  },
  {
   "cell_type": "code",
   "execution_count": 73,
   "metadata": {},
   "outputs": [],
   "source": [
    "df_ls_l21_reproducibility=Nicholas_Reproducibility(k)"
   ]
  },
  {
   "cell_type": "code",
   "execution_count": 74,
   "metadata": {},
   "outputs": [],
   "source": [
    "Average_Nicholas_reproducibility=(np.average(np.triu(df_ls_l21_reproducibility.values,k=1)))*(10**3)"
   ]
  },
  {
   "cell_type": "code",
   "execution_count": 75,
   "metadata": {},
   "outputs": [
    {
     "data": {
      "text/plain": [
       "3.333333333333333"
      ]
     },
     "execution_count": 75,
     "metadata": {},
     "output_type": "execute_result"
    }
   ],
   "source": [
    "Average_Nicholas_reproducibility"
   ]
  },
  {
   "cell_type": "code",
   "execution_count": null,
   "metadata": {},
   "outputs": [],
   "source": []
  }
 ],
 "metadata": {
  "kernelspec": {
   "display_name": "Python 3",
   "language": "python",
   "name": "python3"
  },
  "language_info": {
   "codemirror_mode": {
    "name": "ipython",
    "version": 3
   },
   "file_extension": ".py",
   "mimetype": "text/x-python",
   "name": "python",
   "nbconvert_exporter": "python",
   "pygments_lexer": "ipython3",
   "version": "3.6.10"
  }
 },
 "nbformat": 4,
 "nbformat_minor": 4
}
